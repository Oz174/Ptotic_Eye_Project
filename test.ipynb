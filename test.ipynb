{
 "cells": [
  {
   "cell_type": "code",
   "execution_count": 1,
   "metadata": {},
   "outputs": [],
   "source": [
    "import numpy as np \n",
    "import matplotlib.pyplot as plt"
   ]
  },
  {
   "cell_type": "code",
   "execution_count": 2,
   "metadata": {},
   "outputs": [],
   "source": [
    "# read the rotated.txt \n",
    "coordinates = []\n",
    "with open('rotated.txt','r') as coord_file:\n",
    "    while True:\n",
    "        p = coord_file.readline().strip('\\n')\n",
    "        if p == '':\n",
    "            break\n",
    "        x,y = p.split('\\t')\n",
    "        coordinates.append((float(x),float(y)))"
   ]
  },
  {
   "cell_type": "code",
   "execution_count": 3,
   "metadata": {},
   "outputs": [
    {
     "data": {
      "text/plain": [
       "((878.1667, 480.0), (378.8333, 480.0))"
      ]
     },
     "execution_count": 3,
     "metadata": {},
     "output_type": "execute_result"
    }
   ],
   "source": [
    "left_pupil = coordinates.pop() # last coord\n",
    "right_pupil = coordinates.pop() # before last coord \n",
    "\n",
    "left_pupil , right_pupil"
   ]
  },
  {
   "cell_type": "code",
   "execution_count": 4,
   "metadata": {},
   "outputs": [
    {
     "data": {
      "text/plain": [
       "18"
      ]
     },
     "execution_count": 4,
     "metadata": {},
     "output_type": "execute_result"
    }
   ],
   "source": [
    "len(coordinates)"
   ]
  },
  {
   "cell_type": "code",
   "execution_count": 5,
   "metadata": {},
   "outputs": [
    {
     "data": {
      "text/plain": [
       "(9, 9)"
      ]
     },
     "execution_count": 5,
     "metadata": {},
     "output_type": "execute_result"
    }
   ],
   "source": [
    "upper_right_contour = coordinates[:len(coordinates)//2]\n",
    "upper_left_contour = coordinates[len(coordinates)//2:]\n",
    "\n",
    "len(upper_left_contour) , len(upper_right_contour)\n"
   ]
  },
  {
   "cell_type": "code",
   "execution_count": 14,
   "metadata": {},
   "outputs": [
    {
     "data": {
      "image/png": "[encoded data removed]",
      "text/plain": [
       "<Figure size 640x480 with 1 Axes>"
      ]
     },
     "metadata": {},
     "output_type": "display_data"
    }
   ],
   "source": [
    "if not plt.gca().yaxis_inverted():\n",
    "    plt.gca().invert_yaxis()\n",
    "\n",
    "\n",
    "plt.scatter(right_pupil[0],right_pupil[1])\n",
    "plt.scatter(left_pupil[0],left_pupil[1])\n",
    "\n",
    "x_right = [p[0] for p in upper_right_contour]\n",
    "y_right = [p[1] for p in upper_right_contour]\n",
    "curve = np.polyfit(x_right,y_right,5)\n",
    "fx = np.poly1d(curve)\n",
    "plt.plot(x_right,fx(x_right))\n",
    "\n",
    "x_left = [p[0] for p in upper_left_contour]\n",
    "y_left = [p[1] for p in upper_left_contour]\n",
    "curve = np.polyfit(x_left,y_left,5)\n",
    "gx = np.poly1d(curve)\n",
    "plt.plot(x_left,gx(x_left))\n",
    "\n",
    "plt.show()\n"
   ]
  },
  {
   "cell_type": "code",
   "execution_count": 7,
   "metadata": {},
   "outputs": [
    {
     "data": {
      "text/plain": [
       "1.6"
      ]
     },
     "execution_count": 7,
     "metadata": {},
     "output_type": "execute_result"
    }
   ],
   "source": [
    "abs(round(fx(right_pupil[0]) - right_pupil[1],0) / 10) "
   ]
  },
  {
   "cell_type": "code",
   "execution_count": 8,
   "metadata": {},
   "outputs": [
    {
     "data": {
      "text/plain": [
       "3.0"
      ]
     },
     "execution_count": 8,
     "metadata": {},
     "output_type": "execute_result"
    }
   ],
   "source": [
    "abs(round(gx(left_pupil[0]) - left_pupil[1],0) / 10) "
   ]
  },
  {
   "cell_type": "code",
   "execution_count": 9,
   "metadata": {},
   "outputs": [
    {
     "data": {
      "text/plain": [
       "93.66669999999999"
      ]
     },
     "execution_count": 9,
     "metadata": {},
     "output_type": "execute_result"
    }
   ],
   "source": [
    "abs(x_right[np.argmax(fx(x_right))] - right_pupil[0]) #mrd1-phul "
   ]
  },
  {
   "cell_type": "code",
   "execution_count": 10,
   "metadata": {},
   "outputs": [
    {
     "data": {
      "text/plain": [
       "88.0"
      ]
     },
     "execution_count": 10,
     "metadata": {},
     "output_type": "execute_result"
    }
   ],
   "source": [
    "abs(x_left[np.argmax(gx(x_left))] - left_pupil[0]) #mrd1-phul "
   ]
  }
 ],
 "metadata": {
  "kernelspec": {
   "display_name": ".venv",
   "language": "python",
   "name": "python3"
  },
  "language_info": {
   "codemirror_mode": {
    "name": "ipython",
    "version": 3
   },
   "file_extension": ".py",
   "mimetype": "text/x-python",
   "name": "python",
   "nbconvert_exporter": "python",
   "pygments_lexer": "ipython3",
   "version": "3.12.0"
  }
 },
 "nbformat": 4,
 "nbformat_minor": 2
}
