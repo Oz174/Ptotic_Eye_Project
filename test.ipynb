{
 "cells": [
  {
   "cell_type": "code",
   "execution_count": 1,
   "metadata": {},
   "outputs": [],
   "source": [
    "import numpy as np \n",
    "import matplotlib.pyplot as plt"
   ]
  },
  {
   "cell_type": "code",
   "execution_count": null,
   "metadata": {},
   "outputs": [],
   "source": [
    "# provide text file with indices of splitting"
   ]
  },
  {
   "cell_type": "code",
   "execution_count": 2,
   "metadata": {},
   "outputs": [],
   "source": [
    "# read the rotated.txt \n",
    "coordinates = []\n",
    "split_idx = -1\n",
    "with open('rotated.txt','r') as coord_file:\n",
    "    while True:\n",
    "        p = coord_file.readline().strip('\\n')\n",
    "        if p == '':\n",
    "            break\n",
    "        try:\n",
    "            x,y = p.split('\\t')\n",
    "            coordinates.append((float(x),float(y)))\n",
    "        except ValueError:\n",
    "            split_idx = int(p)"
   ]
  },
  {
   "cell_type": "code",
   "execution_count": 3,
   "metadata": {},
   "outputs": [
    {
     "data": {
      "text/plain": [
       "21"
      ]
     },
     "execution_count": 3,
     "metadata": {},
     "output_type": "execute_result"
    }
   ],
   "source": [
    "len(coordinates)"
   ]
  },
  {
   "cell_type": "code",
   "execution_count": 4,
   "metadata": {},
   "outputs": [
    {
     "data": {
      "text/plain": [
       "((877.8333, 480.25), (378.25, 480.25))"
      ]
     },
     "execution_count": 4,
     "metadata": {},
     "output_type": "execute_result"
    }
   ],
   "source": [
    "left_pupil = coordinates.pop() # last coord\n",
    "right_pupil = coordinates.pop() # before last coord \n",
    "\n",
    "left_pupil , right_pupil"
   ]
  },
  {
   "cell_type": "code",
   "execution_count": 5,
   "metadata": {},
   "outputs": [
    {
     "data": {
      "text/plain": [
       "(9, 10)"
      ]
     },
     "execution_count": 5,
     "metadata": {},
     "output_type": "execute_result"
    }
   ],
   "source": [
    "upper_right_contour = coordinates[:split_idx]\n",
    "upper_left_contour = coordinates[split_idx:]\n",
    "\n",
    "len(upper_left_contour) , len(upper_right_contour)"
   ]
  },
  {
   "cell_type": "code",
   "execution_count": 12,
   "metadata": {},
   "outputs": [],
   "source": [
    "def choose_best_fit_degree(contour):\n",
    "    x = [c[0] for c in contour]\n",
    "    y = [c[1] for c in contour]\n",
    "    degree = 3\n",
    "    p = np.polyfit(x,y,degree)\n",
    "    return x , np.poly1d(p)\n",
    "\n",
    "def plot_contour(right_contour,left_contour,right_pupil,left_pupil):\n",
    "    if not plt.gca().yaxis_inverted():\n",
    "        plt.gca().invert_yaxis()\n",
    "    plt.scatter(right_pupil[0],right_pupil[1],c='b')\n",
    "    plt.scatter(left_pupil[0],left_pupil[1],c='r')\n",
    "    x_right,fx = choose_best_fit_degree(right_contour)\n",
    "    print(f\"Equation of the right eye : \\n {fx}\")\n",
    "    x_right_new = np.linspace(min(x_right),max(x_right),100)\n",
    "    y_right_new = fx(x_right_new)\n",
    "    plt.plot(x_right_new,y_right_new,c='b')\n",
    "\n",
    "    x_left,gx = choose_best_fit_degree(left_contour)\n",
    "    print(f\"Equation of the left eye: \\n {np.poly1d(gx)}\")\n",
    "    x_left_new = np.linspace(min(x_left),max(x_left),100)\n",
    "    y_left_new = gx(x_left_new)\n",
    "    plt.plot(x_left_new,y_left_new,c='r')\n",
    "    plt.show()\n",
    "\n",
    "    # create a table to show the statistics\n",
    "    mrd1_right = abs(round((fx(right_pupil[0]) - right_pupil[1])/10,2))\n",
    "    print(f\"MRD1 right eye : {mrd1_right} mm\" )\n",
    "\n",
    "    mrd1_left = abs(round((gx(left_pupil[0]) - left_pupil[1])/10,2))\n",
    "    print(f\"MRD1 left eye : {mrd1_left} mm\" )\n",
    "\n",
    "    mrd1phul_right = abs(x_right_new[np.argmax(fx(x_right_new))] - right_pupil[0])/100\n",
    "    print(f\"PHUL - MRD1 right_eye: {round(mrd1phul_right,2)} mm\")\n",
    "    mrd1phul_left = abs(x_left_new[np.argmax(gx(x_left_new))] - left_pupil[0])/100\n",
    "\n",
    "    print(f\"PHUL - MRD1 left_eye: {round(mrd1phul_left,2)} mm\")\n",
    "\n",
    "    \n",
    "    print(f\"Similarity between MRD1 in both eyes :{100 * min(mrd1_left,mrd1_right)/max(mrd1_right,mrd1_left):.2f} %\")\n",
    "    print(f\"Similarity between PHUL - MRD1 in both eyes :{100 * min(mrd1phul_right,mrd1phul_left)/ max(mrd1phul_right,mrd1phul_left):.2f} %\")\n",
    "    \n"
   ]
  },
  {
   "cell_type": "code",
   "execution_count": 13,
   "metadata": {},
   "outputs": [
    {
     "name": "stdout",
     "output_type": "stream",
     "text": [
      "Equation of the right eye : \n",
      "             3            2\n",
      "-3.346e-06 x + 0.007053 x - 3.731 x + 1047\n",
      "Equation of the left eye: \n",
      "             3           2\n",
      "-6.568e-06 x + 0.02205 x - 23.71 x + 8703\n"
     ]
    },
    {
     "data": {
      "image/png": "[encoded data removed]",
      "text/plain": [
       "<Figure size 640x480 with 1 Axes>"
      ]
     },
     "metadata": {},
     "output_type": "display_data"
    },
    {
     "name": "stdout",
     "output_type": "stream",
     "text": [
      "MRD1 right eye : 1.66 mm\n",
      "MRD1 left eye : 3.51 mm\n",
      "PHUL - MRD1 right_eye: 1.03 mm\n",
      "PHUL - MRD1 left_eye: 0.87 mm\n",
      "Similarity between MRD1 in both eyes :47.29 %\n",
      "Similarity between PHUL - MRD1 in both eyes :84.58 %\n"
     ]
    }
   ],
   "source": [
    "plot_contour(upper_right_contour,upper_left_contour,right_pupil,left_pupil)"
   ]
  },
  {
   "cell_type": "code",
   "execution_count": null,
   "metadata": {},
   "outputs": [],
   "source": []
  }
 ],
 "metadata": {
  "kernelspec": {
   "display_name": ".venv",
   "language": "python",
   "name": "python3"
  },
  "language_info": {
   "codemirror_mode": {
    "name": "ipython",
    "version": 3
   },
   "file_extension": ".py",
   "mimetype": "text/x-python",
   "name": "python",
   "nbconvert_exporter": "python",
   "pygments_lexer": "ipython3",
   "version": "3.12.0"
  }
 },
 "nbformat": 4,
 "nbformat_minor": 2
}
